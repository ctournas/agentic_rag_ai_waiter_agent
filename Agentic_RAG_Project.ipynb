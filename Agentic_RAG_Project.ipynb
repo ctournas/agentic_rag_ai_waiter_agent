{
  "nbformat": 4,
  "nbformat_minor": 0,
  "metadata": {
    "colab": {
      "provenance": []
    },
    "kernelspec": {
      "name": "python3",
      "display_name": "Python 3"
    },
    "language_info": {
      "name": "python"
    }
  },
  "cells": [
    {
      "cell_type": "markdown",
      "source": [
        "In this notebook, we will build an agent that acts as a restaurant waiter, capable of interacting with customers, answering their questions about the menu, and providing friendly responses. We will use the LangChain and LangGraph libraries to construct the agent's workflow and integrate it with OpenAI's GPT-based language models."
      ],
      "metadata": {
        "id": "xFFhYrbOaMQw"
      }
    },
    {
      "cell_type": "markdown",
      "source": [
        "# Libraries, API Keys and Data"
      ],
      "metadata": {
        "id": "zKDHe_yblPPt"
      }
    },
    {
      "cell_type": "markdown",
      "source": [
        "We need to install several libraries to build our agent:\n",
        "*   langchain-community and langchain-openai: For language model integrations and prompts.\n",
        "*   unstructured: For document loading and processing.\n",
        "*   faiss-cpu: For vector similarity search.\n",
        "*   langgraph: For constructing the workflow graph."
      ],
      "metadata": {
        "id": "8_BkQfr3aQpI"
      }
    },
    {
      "cell_type": "code",
      "execution_count": null,
      "metadata": {
        "id": "WpFIo5FQj51S",
        "colab": {
          "base_uri": "https://localhost:8080/"
        },
        "outputId": "5ddb9bee-2f16-4594-909c-ce3c3254a6ac"
      },
      "outputs": [
        {
          "output_type": "stream",
          "name": "stdout",
          "text": [
            "\u001b[?25l     \u001b[90m━━━━━━━━━━━━━━━━━━━━━━━━━━━━━━━━━━━━━━━━\u001b[0m \u001b[32m0.0/981.5 kB\u001b[0m \u001b[31m?\u001b[0m eta \u001b[36m-:--:--\u001b[0m\r\u001b[2K     \u001b[90m━━━━━━━━━━━━━━━━━━━━━━━━━━━━━━━━━━━━━━━━\u001b[0m \u001b[32m981.5/981.5 kB\u001b[0m \u001b[31m29.6 MB/s\u001b[0m eta \u001b[36m0:00:00\u001b[0m\n",
            "\u001b[?25h  Preparing metadata (setup.py) ... \u001b[?25l\u001b[?25hdone\n",
            "\u001b[2K   \u001b[90m━━━━━━━━━━━━━━━━━━━━━━━━━━━━━━━━━━━━━━━━\u001b[0m \u001b[32m2.5/2.5 MB\u001b[0m \u001b[31m32.9 MB/s\u001b[0m eta \u001b[36m0:00:00\u001b[0m\n",
            "\u001b[2K   \u001b[90m━━━━━━━━━━━━━━━━━━━━━━━━━━━━━━━━━━━━━━━━\u001b[0m \u001b[32m55.0/55.0 kB\u001b[0m \u001b[31m3.5 MB/s\u001b[0m eta \u001b[36m0:00:00\u001b[0m\n",
            "\u001b[2K   \u001b[90m━━━━━━━━━━━━━━━━━━━━━━━━━━━━━━━━━━━━━━━━\u001b[0m \u001b[32m1.8/1.8 MB\u001b[0m \u001b[31m41.0 MB/s\u001b[0m eta \u001b[36m0:00:00\u001b[0m\n",
            "\u001b[2K   \u001b[90m━━━━━━━━━━━━━━━━━━━━━━━━━━━━━━━━━━━━━━━━\u001b[0m \u001b[32m30.7/30.7 MB\u001b[0m \u001b[31m21.8 MB/s\u001b[0m eta \u001b[36m0:00:00\u001b[0m\n",
            "\u001b[2K   \u001b[90m━━━━━━━━━━━━━━━━━━━━━━━━━━━━━━━━━━━━━━━━\u001b[0m \u001b[32m150.0/150.0 kB\u001b[0m \u001b[31m8.3 MB/s\u001b[0m eta \u001b[36m0:00:00\u001b[0m\n",
            "\u001b[2K   \u001b[90m━━━━━━━━━━━━━━━━━━━━━━━━━━━━━━━━━━━━━━━━\u001b[0m \u001b[32m1.0/1.0 MB\u001b[0m \u001b[31m36.9 MB/s\u001b[0m eta \u001b[36m0:00:00\u001b[0m\n",
            "\u001b[2K   \u001b[90m━━━━━━━━━━━━━━━━━━━━━━━━━━━━━━━━━━━━━━━━\u001b[0m \u001b[32m413.2/413.2 kB\u001b[0m \u001b[31m18.0 MB/s\u001b[0m eta \u001b[36m0:00:00\u001b[0m\n",
            "\u001b[2K   \u001b[90m━━━━━━━━━━━━━━━━━━━━━━━━━━━━━━━━━━━━━━━━\u001b[0m \u001b[32m44.7/44.7 kB\u001b[0m \u001b[31m2.6 MB/s\u001b[0m eta \u001b[36m0:00:00\u001b[0m\n",
            "\u001b[2K   \u001b[90m━━━━━━━━━━━━━━━━━━━━━━━━━━━━━━━━━━━━━━━━\u001b[0m \u001b[32m1.2/1.2 MB\u001b[0m \u001b[31m44.3 MB/s\u001b[0m eta \u001b[36m0:00:00\u001b[0m\n",
            "\u001b[2K   \u001b[90m━━━━━━━━━━━━━━━━━━━━━━━━━━━━━━━━━━━━━━━━\u001b[0m \u001b[32m590.6/590.6 kB\u001b[0m \u001b[31m26.4 MB/s\u001b[0m eta \u001b[36m0:00:00\u001b[0m\n",
            "\u001b[2K   \u001b[90m━━━━━━━━━━━━━━━━━━━━━━━━━━━━━━━━━━━━━━━━\u001b[0m \u001b[32m167.1/167.1 kB\u001b[0m \u001b[31m10.0 MB/s\u001b[0m eta \u001b[36m0:00:00\u001b[0m\n",
            "\u001b[2K   \u001b[90m━━━━━━━━━━━━━━━━━━━━━━━━━━━━━━━━━━━━━━━━\u001b[0m \u001b[32m3.1/3.1 MB\u001b[0m \u001b[31m77.2 MB/s\u001b[0m eta \u001b[36m0:00:00\u001b[0m\n",
            "\u001b[2K   \u001b[90m━━━━━━━━━━━━━━━━━━━━━━━━━━━━━━━━━━━━━━━━\u001b[0m \u001b[32m63.6/63.6 kB\u001b[0m \u001b[31m4.5 MB/s\u001b[0m eta \u001b[36m0:00:00\u001b[0m\n",
            "\u001b[2K   \u001b[90m━━━━━━━━━━━━━━━━━━━━━━━━━━━━━━━━━━━━━━━━\u001b[0m \u001b[32m50.9/50.9 kB\u001b[0m \u001b[31m3.0 MB/s\u001b[0m eta \u001b[36m0:00:00\u001b[0m\n",
            "\u001b[2K   \u001b[90m━━━━━━━━━━━━━━━━━━━━━━━━━━━━━━━━━━━━━━━━\u001b[0m \u001b[32m300.7/300.7 kB\u001b[0m \u001b[31m15.8 MB/s\u001b[0m eta \u001b[36m0:00:00\u001b[0m\n",
            "\u001b[2K   \u001b[90m━━━━━━━━━━━━━━━━━━━━━━━━━━━━━━━━━━━━━━━━\u001b[0m \u001b[32m114.6/114.6 kB\u001b[0m \u001b[31m6.8 MB/s\u001b[0m eta \u001b[36m0:00:00\u001b[0m\n",
            "\u001b[?25h  Building wheel for langdetect (setup.py) ... \u001b[?25l\u001b[?25hdone\n"
          ]
        }
      ],
      "source": [
        "!pip install -q langchain-community langchain-openai unstructured faiss-cpu langgraph"
      ]
    },
    {
      "cell_type": "markdown",
      "source": [
        "We import necessary modules from LangChain and LangGraph. Make sure your OpenAI API key is stored with the key 'genai_course' in Colab's user data."
      ],
      "metadata": {
        "id": "Ydujymwnaee-"
      }
    },
    {
      "cell_type": "code",
      "source": [
        "from google.colab import drive\n",
        "drive.mount(\"/content/drive\")"
      ],
      "metadata": {
        "colab": {
          "base_uri": "https://localhost:8080/"
        },
        "id": "dJ1dwm-pju2r",
        "outputId": "21e7a836-49d1-4fea-d7ec-8980456f43a9"
      },
      "execution_count": null,
      "outputs": [
        {
          "output_type": "stream",
          "name": "stdout",
          "text": [
            "Mounted at /content/drive\n"
          ]
        }
      ]
    },
    {
      "cell_type": "code",
      "source": [
        "from google.colab import userdata\n",
        "api_key = userdata.get('OPENAI')"
      ],
      "metadata": {
        "id": "qo4BH_5GluJb"
      },
      "execution_count": null,
      "outputs": []
    },
    {
      "cell_type": "code",
      "source": [
        "%cd /content/drive/MyDrive/GenAI/RAG/Agentic RAG"
      ],
      "metadata": {
        "colab": {
          "base_uri": "https://localhost:8080/"
        },
        "id": "6zu0BEKwlnk7",
        "outputId": "845491e5-a2af-4e66-85b4-1ee1ce3ff52a"
      },
      "execution_count": null,
      "outputs": [
        {
          "output_type": "stream",
          "name": "stdout",
          "text": [
            "/content/drive/MyDrive/GenAI/RAG/Agentic RAG\n"
          ]
        }
      ]
    },
    {
      "cell_type": "code",
      "source": [
        "from langchain_community.document_loaders import UnstructuredExcelLoader\n",
        "from langchain.text_splitter import RecursiveCharacterTextSplitter\n",
        "from langchain.vectorstores.faiss import FAISS\n",
        "from langchain.prompts import ChatPromptTemplate\n",
        "from langchain_openai import ChatOpenAI, OpenAIEmbeddings\n",
        "from langchain.schema.output_parser import StrOutputParser\n",
        "\n",
        "from typing import List\n",
        "from typing_extensions import TypedDict\n",
        "from IPython.display import display, Image\n",
        "\n",
        "from langgraph.graph import StateGraph, END"
      ],
      "metadata": {
        "id": "hfP4BQI7l2Vn"
      },
      "execution_count": null,
      "outputs": []
    },
    {
      "cell_type": "code",
      "source": [
        "# Loads the document\n",
        "file = 'dim sum montijo.xlsx'\n",
        "loader = UnstructuredExcelLoader(file, mode = 'elements')\n",
        "data = loader.load()\n",
        "\n",
        "# Embedding\n",
        "embeddings = OpenAIEmbeddings(\n",
        "    openai_api_key = api_key\n",
        ")\n",
        "\n",
        "# Store in a vector database\n",
        "db = FAISS.from_documents(data, embeddings)"
      ],
      "metadata": {
        "id": "n7POTKCdkH_w"
      },
      "execution_count": null,
      "outputs": []
    },
    {
      "cell_type": "markdown",
      "source": [
        "# Process"
      ],
      "metadata": {
        "id": "4ASeDxZMlnm6"
      }
    },
    {
      "cell_type": "code",
      "source": [
        "# TypedDict class to store information\n",
        "class AgentState(TypedDict):\n",
        "  start: bool\n",
        "  conversation: int # Keep track on conversation\n",
        "  question: str # Question to ask the llm\n",
        "  answer: str # Output of the LLM\n",
        "  topic: bool # Decision on whether the question makes sense / can be answered\n",
        "  documents: list # Relevant documents\n",
        "  recursion_limit: int # Avoid endless loops\n",
        "  memory: list"
      ],
      "metadata": {
        "id": "Q4hplHSquQNC"
      },
      "execution_count": null,
      "outputs": []
    },
    {
      "cell_type": "code",
      "source": [
        "# Build a function to greet the customer\n",
        "def greetings(state):\n",
        "  print(\"Hello! Welcome to the restaurant. I will be your waiter. How can I help you?\")\n",
        "  user_input = input()\n",
        "\n",
        "  state['question'] = user_input\n",
        "  state['conversation'] = 1\n",
        "  state['memory'] = [user_input]\n",
        "\n",
        "  return state"
      ],
      "metadata": {
        "id": "OrosASVpwr_a"
      },
      "execution_count": null,
      "outputs": []
    },
    {
      "cell_type": "code",
      "source": [
        "def check_question(state):\n",
        "\n",
        "  # Get the question\n",
        "  question = state['question']\n",
        "\n",
        "  # Define the system prompt\n",
        "  system_prompt = \"\"\"\n",
        "  ### Persona:\n",
        "  You are an AI Assistant working as a restaurant service evaluator.\n",
        "  Your task is to analyze customer questions directed at the restaurant staff\n",
        "  and determine whether they are appropriate.\n",
        "\n",
        "  ### Task:\n",
        "  - Assess if the customer's question is suitable for restaurant staff.\n",
        "  - If the question is related to food, drinks, reservations, or restaurant services, classify it as \"True\".\n",
        "  - If the question is unrelated to the restaurant (e.g., personal, off-topic, inappropriate), classify it as \"False\".\n",
        "  - Your response must be only \"True\" or \"False\" without any explanations.\n",
        "\n",
        "  ### Guidelines:\n",
        "  1. Acceptable questions include:\n",
        "  - \"What are today’s specials?\"\n",
        "  - \"Do you have vegetarian options?\"\n",
        "  - \"Can I book a table for 7 PM?\"\n",
        "  - \"What time do you close?\"\n",
        "\n",
        "  2. Unacceptable questions include:\n",
        "  - \"What’s your favorite movie?\"\n",
        "  - \"Can you help me with my homework?\"\n",
        "  - \"Do you believe in aliens?\"\n",
        "  - \"How can I invest in stocks?\"\n",
        "\n",
        "  ### Response Format:\n",
        "  - If the question is appropriate → Respond with **\"True\"**.\n",
        "  - If the question is inappropriate → Respond with **\"False\"**.\n",
        "  - Do not provide any explanations, additional text, or formatting.onse.\n",
        "  \"\"\"\n",
        "\n",
        "  # Prompt template to format the system prompt\n",
        "  TEMPLATE = ChatPromptTemplate.from_messages([\n",
        "      (\"system\", system_prompt),\n",
        "      (\"human\", f\"User question: {question}\")\n",
        "  ])\n",
        "  prompt = TEMPLATE.format(question = question)\n",
        "\n",
        "  # Call the LLM model\n",
        "  model = ChatOpenAI(model = \"gpt-4o-mini\",\n",
        "                    api_key = api_key)\n",
        "\n",
        "  # Invoke the model with the prompt\n",
        "  response_text = model.invoke(prompt)\n",
        "\n",
        "  # Update the state with the model's decision\n",
        "  state['topic'] = response_text.content.strip()\n",
        "\n",
        "  return state"
      ],
      "metadata": {
        "id": "bnxH9xTK1BlG"
      },
      "execution_count": null,
      "outputs": []
    },
    {
      "cell_type": "code",
      "source": [
        "# Function to check if the LLM model decides if the question is on topic or not\n",
        "def topic_router(state):\n",
        "  topic = state['topic']\n",
        "  if topic == 'True':\n",
        "    return \"on_topic\"\n",
        "  else:\n",
        "    return \"off_topic\"\n",
        "\n",
        "# Function for when the question is NOT on topic\n",
        "def off_topic_response(state):\n",
        "  if state['conversation'] <= 1:\n",
        "    state['answer'] = \"\\nI apologize, I can't answer that question. I can only answer questions about the menu in this restaurant\"\n",
        "    print(state[\"answer\"])\n",
        "  else:\n",
        "    state['answer'] = \"\\nHappy to help\"\n",
        "    print(state['answer'])"
      ],
      "metadata": {
        "id": "lL93pPjf7m7u"
      },
      "execution_count": null,
      "outputs": []
    },
    {
      "cell_type": "code",
      "source": [
        "# Function to retrieve relevant documents based on the question\n",
        "def retrieve_docs(state):\n",
        "  memory = \", \".join(state['memory'])\n",
        "\n",
        "  # Get the context\n",
        "  docs_faiss = db.similarity_search(str(memory), k = 5)\n",
        "  state['documents'] = [doc.page_content for doc in docs_faiss]\n",
        "\n",
        "  return state"
      ],
      "metadata": {
        "id": "Y2f4tre3-YQ7"
      },
      "execution_count": null,
      "outputs": []
    },
    {
      "cell_type": "code",
      "source": [
        "# Build a function to generate the questions\n",
        "def generate(state):\n",
        "  # Initializing the model\n",
        "  model = ChatOpenAI(model=\"gpt-4o-mini\", api_key=api_key)\n",
        "\n",
        "  # Extract the infromation\n",
        "  question = state['question']\n",
        "  documents = state['documents']\n",
        "  memory = state['memory']\n",
        "\n",
        "  # Define the system prompt for the model\n",
        "  system_prompt = \"\"\"\n",
        "  ### Role:\n",
        "  You are a restaurant waiter assisting customers by answering their questions in a polite and professional manner.\n",
        "\n",
        "  ### Instructions:\n",
        "  - Provide concise and clear responses.\n",
        "  - Maintain a friendly and helpful tone.\n",
        "  - Avoid excessive detail; keep answers to the point.\n",
        "  - Do **not** refer to yourself as a \"waiter\" or explicitly mention your role.\n",
        "  - Respond naturally, as a human waiter would in conversation.\n",
        "\n",
        "  ### Example Interactions:\n",
        "\n",
        "  **Customer:** \"What are today’s specials?\"\n",
        "  **Response:** \"Today's specials are grilled salmon with lemon butter sauce and a creamy mushroom risotto.\"\n",
        "\n",
        "  **Customer:** \"Do you serve vegetarian dishes?\"\n",
        "  **Response:** \"Yes, we have several vegetarian options, including a roasted vegetable pasta and a lentil curry.\"\n",
        "\n",
        "  **Customer:** \"Can I book a table for 7 PM?\"\n",
        "  **Response:** \"Of course! How many people will be dining with you?\"\n",
        "\n",
        "  Your goal is to provide helpful, natural, and professional responses to customers' inquiries.\n",
        "  \"\"\"\n",
        "\n",
        "  # Create a prompt template for formating\n",
        "  TEMPLATE = ChatPromptTemplate.from_messages([\n",
        "      (\"system\", system_prompt),\n",
        "      (\"human\", f\"Context: {documents}\\nConversation history so far: {memory}\\nCustomer question: {question}\")\n",
        "  ])\n",
        "\n",
        "  # Format the prompt\n",
        "  prompt = TEMPLATE.format(documents = documents, memory = memory, question = question)\n",
        "\n",
        "  # Invoke the model with the prompt\n",
        "  response_text = model.invoke(prompt)\n",
        "\n",
        "  # Update the state with the model's decision\n",
        "  state['answer'] = response_text.content.strip()\n",
        "  # print(state['state'])\n",
        "\n",
        "  return state"
      ],
      "metadata": {
        "id": "QFRocgX6J2gX"
      },
      "execution_count": null,
      "outputs": []
    },
    {
      "cell_type": "code",
      "source": [
        "# Build a function that improves the generated answer\n",
        "def improve_answer(state):\n",
        "  question = state['question']\n",
        "  answer = state['answer']\n",
        "  memory = state['memory']\n",
        "\n",
        "  # Define the system prompt\n",
        "  system = \"\"\"\n",
        "  ### Role:\n",
        "  You are a restaurant waiter responsible for reviewing and refining responses given to customers. Your task is to ensure the response is appropriate, friendly, and informative while maintaining a polite, professional, and attentive tone.\n",
        "\n",
        "  ### Instructions:\n",
        "  - Review the provided response to ensure clarity, correctness, and relevance.\n",
        "  - Edit or remove parts as needed to improve conciseness and professionalism.\n",
        "  - **Do not add** any new information beyond what is given.\n",
        "  - Maintain a warm, engaging, and helpful tone.\n",
        "  - Always conclude with an open-ended question to encourage further conversation.\n",
        "  - Consider the conversation history to make responses more personalized and useful.\n",
        "  - Format the response with `\\n` at each sentence or logical break.\n",
        "  - **Do not include any introductory phrases, explanations, or commentary—only return the refined response.**\n",
        "\n",
        "  ### Example Refinements:\n",
        "\n",
        "  **Original Response:**\n",
        "  *\"Yes, we have a few vegetarian options, such as salads and pasta dishes. We also have a delicious lentil soup that’s really popular. Let me know if you’d like recommendations!\"*\n",
        "\n",
        "  **Refined Response:**\n",
        "  *\"Yes, we offer several vegetarian options, including fresh salads, pasta dishes, and a hearty lentil soup.\\n Would you like a recommendation based on your preferences?\"*\n",
        "\n",
        "  ---\n",
        "\n",
        "  **Original Response:**\n",
        "  *\"We close at 10 PM, but sometimes we stay open later if it’s busy. If you’re planning to visit late, you might want to call ahead to check. Hope that helps!\"*\n",
        "\n",
        "  **Refined Response:**\n",
        "  *\"Our restaurant closes at 10 PM, though we may stay open later during busy nights.\\n Would you like me to assist with a reservation?\"*\n",
        "\n",
        "  ### **Final Instruction:**\n",
        "  Deliver a refined response that enhances the customer's experience and reflects the restaurant's commitment to customer service.\n",
        "  \"\"\"\n",
        "  # Prompt Template\n",
        "  TEMPLATE = ChatPromptTemplate.from_messages([\n",
        "    (\"system\", system),\n",
        "    (\"human\", f\"Customer question: {question}, Conversation history: {memory}, waiter answer: {answer}\")\n",
        "  ])\n",
        "\n",
        "  # Call the LLM\n",
        "  model = ChatOpenAI(model = \"gpt-4o-mini\",\n",
        "                     api_key = api_key)\n",
        "  prompt = TEMPLATE.format(question = question, memory = memory, answer = answer)\n",
        "  response_text = model.invoke(prompt)\n",
        "\n",
        "  # Store the answer in AgentState\n",
        "  state['answer'] = response_text.content\n",
        "  print(\"\\n\")\n",
        "  print(state['answer'])\n",
        "  state['memory'].append(response_text.content)\n",
        "\n",
        "  return state"
      ],
      "metadata": {
        "id": "WgmFBPhBOwDM"
      },
      "execution_count": null,
      "outputs": []
    },
    {
      "cell_type": "code",
      "source": [
        "# Build a function to repeatedly ask for the user's input\n",
        "def further_question(state):\n",
        "  print('\\n')\n",
        "  user_input = input()\n",
        "\n",
        "  state['question'] = user_input\n",
        "  state['conversation'] += 1\n",
        "  state['memory'].append(user_input)\n",
        "\n",
        "  return state"
      ],
      "metadata": {
        "id": "TA7LAb-iUjio"
      },
      "execution_count": null,
      "outputs": []
    },
    {
      "cell_type": "markdown",
      "source": [
        "# Workflow"
      ],
      "metadata": {
        "id": "sg1kQZuguRMP"
      }
    },
    {
      "cell_type": "code",
      "source": [
        "# Initialize a StateGraph\n",
        "workflow = StateGraph(AgentState)\n",
        "\n",
        "# Defining the nodes\n",
        "workflow.add_node(\"greetings\", greetings)\n",
        "workflow.add_node(\"check_question\", check_question)\n",
        "workflow.add_node(\"off_topic_response\", off_topic_response)\n",
        "workflow.add_node(\"retrieve_docs\", retrieve_docs)\n",
        "workflow.add_node(\"generate\", generate,)\n",
        "workflow.add_node(\"improve_answer\", improve_answer)\n",
        "workflow.add_node(\"further_question\", further_question)\n",
        "\n",
        "# Set the entry point to the workflow\n",
        "workflow.set_entry_point(\"greetings\")\n",
        "\n",
        "# Add the conditional\n",
        "workflow.add_conditional_edges(\n",
        "    \"check_question\",\n",
        "    topic_router,\n",
        "    {\n",
        "        \"on_topic\": \"retrieve_docs\",\n",
        "        \"off_topic\": \"off_topic_response\"\n",
        "    }\n",
        ")\n",
        "\n",
        "# Add sequential edges\n",
        "workflow.add_edge(\"greetings\", \"check_question\")\n",
        "workflow.add_edge(\"retrieve_docs\", \"generate\")\n",
        "workflow.add_edge(\"generate\", \"improve_answer\")\n",
        "workflow.add_edge(\"improve_answer\", \"further_question\")\n",
        "workflow.add_edge(\"further_question\", \"check_question\")\n",
        "\n",
        "# Connect the nodes to the end\n",
        "workflow.add_edge(\"off_topic_response\", END)\n",
        "\n",
        "# Compile the workflow into an application\n",
        "app = workflow.compile()"
      ],
      "metadata": {
        "id": "hAnzHnEjuSeN"
      },
      "execution_count": null,
      "outputs": []
    },
    {
      "cell_type": "code",
      "source": [
        "# Preview the workflow\n",
        "display(Image(app.get_graph(xray = True).draw_mermaid_png()))"
      ],
      "metadata": {
        "colab": {
          "base_uri": "https://localhost:8080/",
          "height": 686
        },
        "id": "DworzWGovCaI",
        "outputId": "01162de1-69d2-43cc-db11-f8a39023cdc7"
      },
      "execution_count": null,
      "outputs": [
        {
          "output_type": "display_data",
          "data": {
            "image/png": "[encoded data removed]",
            "text/plain": [
              "<IPython.core.display.Image object>"
            ]
          },
          "metadata": {}
        }
      ]
    },
    {
      "cell_type": "code",
      "source": [
        "result = app.invoke({\"start\": True}, {\"recursion_limit\": 50})"
      ],
      "metadata": {
        "colab": {
          "base_uri": "https://localhost:8080/"
        },
        "id": "et3AVdIdyCL5",
        "outputId": "6a8000ba-8fd4-4ca9-f903-4df9ebc0d0ff"
      },
      "execution_count": null,
      "outputs": [
        {
          "output_type": "stream",
          "name": "stdout",
          "text": [
            "Hello! Welcome to the restaurant. I will be your waiter. How can I help you?\n",
            "What do you recommend?\n",
            "\n",
            "\n",
            "*I highly recommend our Siao Long Pao, which are delightful dumplings filled with pork, paksoy, and shiitake mushroom.  \n",
            " They’re a favorite among our guests!  \n",
            " If you prefer something lighter, our vegetarian soup is also an excellent choice.  \n",
            " What type of flavors or dishes do you enjoy?*\n",
            "\n",
            "\n",
            "What's the menu?\n",
            "\n",
            "\n",
            "*Our menu features a variety of delicious options, including soups like Won Ton Soup and Vegetarian Soup.  \n",
            " We also offer a selection of rice dishes, traditional dumplings such as Siao Long Pao and Gyozas, as well as steamed buns and crepes.  \n",
            " For appetizers, don’t miss our crunchy selections like Fortune Bags and Shanghai Prawns.  \n",
            " For dessert, you can enjoy our Banana & Chocolate Crepe or Mochis.  \n",
            " Additionally, we have a selection of teas, soft drinks, and wines.  \n",
            " Would you like more details on any specific dishes or categories?*\n",
            "\n",
            "\n",
            "Wha'ts your reco?\n",
            "\n",
            "\n",
            "*I recommend our Siao Long Pao, which are delightful dumplings filled with pork, paksoy, and shiitake mushroom.  \n",
            " They’re a crowd favorite!  \n",
            " If you prefer something vegetarian, our Vegetable Gyozas are also an excellent choice.  \n",
            " What kind of flavors do you enjoy?*\n",
            "\n",
            "\n",
            "Can you describe me those dishes?\n",
            "\n",
            "\n",
            "*Sure! Here are some details on the dishes:*\n",
            "\n",
            "*- **Siao Long Pao:** Traditional dumplings filled with pork, paksoy, and shiitake mushrooms. They feature a delicate dough and are steamed to perfection, offering a burst of flavor in every bite.*\n",
            "\n",
            "*- **Won Ton Soup:** A comforting soup with wontons filled with a mixture of pork and shrimp, served in a flavorful broth with paksoy.*\n",
            "\n",
            "*- **Vegetarian Soup:** A light and refreshing soup made with paksoy, bamboo, mushrooms, and assorted vegetables—a perfect healthy option.*\n",
            "\n",
            "*- **Gyozas:** Dumplings available in several varieties, including Vegetable, Shrimp, Duck, and Chicken, each filled with delicious ingredients and pan-seared for a crispy texture.*\n",
            "\n",
            "*If you’d like more information about any specific dish or others, just let me know! What sounds most appealing to you?*\n",
            "\n",
            "\n",
            "How much does siao long pao cost?\n",
            "\n",
            "\n",
            "*The cost of Siao Long Pao is €4.50.\n",
            " Would you like to order some or need help with anything else?*\n",
            "\n",
            "\n",
            "What drinks do you have?\n",
            "\n",
            "\n",
            "*We offer a variety of drinks, including:*\n",
            "\n",
            "*- **Cold Teas:** White Tea with Mandarin and Mint, Green Tea with Ginger and Lemon, and Mint & Pineapple - €3.00 each.*  \n",
            "*- **Hot Teas:** Green, Jasmine, Mint, or Rooibos - €2.20.*  \n",
            "*- **Soft Drinks:** Lemonade and Coca-Cola varieties - starting at €2.00.*  \n",
            "*- **Beers:** Heineken Draft, Tsingtao, and non-alcoholic options - starting at €1.90.*  \n",
            "*- **Wines:** Lello White/Red and Mateus Rosé - starting at €3.00 per glass.*  \n",
            "*- **Waters:** Still and sparkling options starting at €1.60.*  \n",
            "\n",
            "*Would you like any specific recommendations or assistance with your drink choice?*  \n",
            "\n",
            "\n",
            "is there any choice with coconut?\n",
            "\n",
            "\n",
            "*Yes, we offer Fortune Bags, which are filled with chicken, vegetables, and feature a touch of coconut and curry.  \n",
            "Would you like to try those or explore other options?*\n",
            "\n",
            "\n",
            "any drinks with coconut?\n",
            "\n",
            "\n",
            "*We don't have any specific drinks with coconut on our menu, but our iced Mochi with Almond & Salted Caramel or Pineapple & Coconut could be a delightful dessert option if you enjoy coconut.  \n",
            " Would you like to try one of those?*\n",
            "\n",
            "\n",
            "I would like a sia long pao and a white tea with mandarin and mint. how much will it cost me?\n",
            "\n",
            "\n",
            "*The Siao Long Pao is €4.50, and the White Tea with Mandarin and Mint is €3.00.  \n",
            "That brings your total to €7.50.  \n",
            "Would you like to place that order or need assistance with anything else?*\n",
            "\n",
            "\n",
            "No, I am good, thank you\n",
            "\n",
            "Happy to help\n"
          ]
        }
      ]
    },
    {
      "cell_type": "code",
      "source": [],
      "metadata": {
        "id": "UFomnwyFC7aC"
      },
      "execution_count": null,
      "outputs": []
    }
  ]
}